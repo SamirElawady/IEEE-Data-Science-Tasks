{
  "nbformat": 4,
  "nbformat_minor": 0,
  "metadata": {
    "colab": {
      "provenance": [],
      "include_colab_link": true
    },
    "kernelspec": {
      "name": "python3",
      "display_name": "Python 3"
    },
    "language_info": {
      "name": "python"
    }
  },
  "cells": [
    {
      "cell_type": "markdown",
      "metadata": {
        "id": "view-in-github",
        "colab_type": "text"
      },
      "source": [
        "<a href=\"https://colab.research.google.com/github/SamirElawady/SamirElawady/blob/main/TASK_1.ipynb\" target=\"_parent\"><img src=\"https://colab.research.google.com/assets/colab-badge.svg\" alt=\"Open In Colab\"/></a>"
      ]
    },
    {
      "cell_type": "markdown",
      "source": [
        "# Task_1"
      ],
      "metadata": {
        "id": "5tiqkSxGtqRH"
      }
    },
    {
      "cell_type": "markdown",
      "source": [
        "# <font color='red'> 1) Mark down all the Valid boolean expression in python: </font>\n",
        "\n",
        "#### A) n > 100 and < 500\n",
        "#### B) n > 100 and n < 500\n",
        "#### C) 100 < n < 500\n"
      ],
      "metadata": {
        "id": "YWgp6TQynE42"
      }
    },
    {
      "cell_type": "code",
      "source": [],
      "metadata": {
        "id": "3xBB-JLJuJ-8"
      },
      "execution_count": null,
      "outputs": []
    },
    {
      "cell_type": "code",
      "source": [
        "A = False #@param {type:\"boolean\"}\n",
        "B = True #@param {type:\"boolean\"}\n",
        "C = True #@param {type:\"boolean\"}\n"
      ],
      "metadata": {
        "id": "WaBM7Ua0l96Z"
      },
      "execution_count": null,
      "outputs": []
    },
    {
      "cell_type": "markdown",
      "source": [
        "\n",
        "# <font color='red'> 2) Fill the gaps to get the ouput as in the example below:\n",
        "##### (For any string greater than 3 characters)\n",
        "#### **Input**: \"globalization\"\n",
        "#### **Output**: g11n\n",
        "#### **\n",
        "#### **Input**: \"subjective\"\n",
        "#### **Output**: s8e\n",
        "#### **\n",
        "\n",
        "### YOUR CODE:\n",
        "<font color='brown'> **s = input()**\n",
        "<br> **print(... + ... + ...)**\n"
      ],
      "metadata": {
        "id": "rzaw1bLYjps-"
      }
    },
    {
      "cell_type": "code",
      "source": [
        "s = input()\n",
        "print(s[0] + str(len(s)-2) + s[-1])"
      ],
      "metadata": {
        "id": "HgAM8xvtnEbf",
        "colab": {
          "base_uri": "https://localhost:8080/"
        },
        "outputId": "3b0c7d5a-36a5-4a03-bb99-1c172c942a12"
      },
      "execution_count": null,
      "outputs": [
        {
          "output_type": "stream",
          "name": "stdout",
          "text": [
            "globalization\n",
            "g11n\n"
          ]
        }
      ]
    },
    {
      "cell_type": "markdown",
      "source": [
        "# <font color='red'> 3) Create a tuple of 10 elements and then multiply each element of the tuple by 2 & save the results in a list"
      ],
      "metadata": {
        "id": "S-tbOKj-lkek"
      }
    },
    {
      "cell_type": "code",
      "source": [
        "y = (1,2,3,4,5,6,7,8,9,10)\n",
        "lst = []\n",
        "for num in y:\n",
        "  lst.append(num*2)\n",
        "\n",
        "print(lst)"
      ],
      "metadata": {
        "id": "B49aQLyil_gC",
        "colab": {
          "base_uri": "https://localhost:8080/"
        },
        "outputId": "bebad5c7-12fd-45c2-cf89-693eff7dd6d8"
      },
      "execution_count": null,
      "outputs": [
        {
          "output_type": "stream",
          "name": "stdout",
          "text": [
            "[2, 4, 6, 8, 10, 12, 14, 16, 18, 20]\n"
          ]
        }
      ]
    },
    {
      "cell_type": "markdown",
      "source": [
        "# <font color='red'> 4) Reverse the string 'Mansoura' using slicing"
      ],
      "metadata": {
        "id": "LCdj2MzVp_7v"
      }
    },
    {
      "cell_type": "code",
      "source": [
        "word = \"Mansoura\"\n",
        "print(word[-1::-1])"
      ],
      "metadata": {
        "id": "SubUk05Cs_k6",
        "colab": {
          "base_uri": "https://localhost:8080/"
        },
        "outputId": "70970142-39a8-4a9d-e71f-ab1004571c9c"
      },
      "execution_count": null,
      "outputs": [
        {
          "output_type": "stream",
          "name": "stdout",
          "text": [
            "aruosnaM\n"
          ]
        }
      ]
    },
    {
      "cell_type": "markdown",
      "source": [
        "# <font color='red'> 5) Use List Comprehension to create a list of the first letters of ever-y word in the string below:\n",
        "\n",
        "* st = 'Friendship is the tree of its seeds tender'"
      ],
      "metadata": {
        "id": "XF8kQVzzsD6t"
      }
    },
    {
      "cell_type": "code",
      "source": [
        "st = 'Friendship is the tree of its seeds tender'\n",
        "my_result = [word[0] for word in st.split()]\n",
        "print(my_result)"
      ],
      "metadata": {
        "id": "4BaX05QQtA7f",
        "colab": {
          "base_uri": "https://localhost:8080/"
        },
        "outputId": "4d535b14-d8ae-4492-d02b-8d0cbc01e7fb"
      },
      "execution_count": null,
      "outputs": [
        {
          "output_type": "stream",
          "name": "stdout",
          "text": [
            "['F', 'i', 't', 't', 'o', 'i', 's', 't']\n"
          ]
        }
      ]
    },
    {
      "cell_type": "markdown",
      "source": [
        "# <font color='cyan'> BONUS <font color='red'> 6) Create a class called car that include some valriables like :\n",
        "* name\n",
        "* color\n",
        "* age"
      ],
      "metadata": {
        "id": "GQo7e9YPmlQ0"
      }
    },
    {
      "cell_type": "code",
      "source": [
        "class Car:\n",
        "    def __init__(self, C_name, C_color, C_age):\n",
        "        self.name = C_name\n",
        "        self.color = C_color\n",
        "        self.age = C_age"
      ],
      "metadata": {
        "id": "PG15Tr-8tfni"
      },
      "execution_count": null,
      "outputs": []
    },
    {
      "cell_type": "markdown",
      "source": [
        "# <font color='red'> **Solve these problems with python**:<br>\n",
        "<a href='https://www.hackerrank.com/challenges/python-string-split-and-join/problem'> **problem 1**\n",
        "    <br>\n",
        "    <br>\n",
        "<a href='https://www.hackerrank.com/challenges/py-if-else/problem'> **problem 2**\n",
        "<br>\n",
        "<br>\n",
        "<a href='https://codeforces.com/group/MWSDmqGsZm/contest/219158/problem/Y'> **problem 3**\n",
        "    <br>\n",
        "    <br>\n",
        "<a href='https://www.hackerrank.com/challenges/list-comprehensions/problem'>\n"
      ],
      "metadata": {
        "id": "T4VSxkHzuaDa"
      }
    },
    {
      "cell_type": "code",
      "source": [
        "#problem 1\n",
        "\n",
        "def split_and_join(line):\n",
        "    return \"-\".join(line.split(\" \"))\n",
        "\n",
        "if __name__ == '__main__':\n",
        "    line = input()\n",
        "    result = split_and_join(line)\n",
        "    print(result)\n",
        "\n"
      ],
      "metadata": {
        "id": "WfsduVL1vqsP"
      },
      "execution_count": null,
      "outputs": []
    },
    {
      "cell_type": "code",
      "source": [
        "#problem 2\n",
        "\n",
        "import math\n",
        "import os\n",
        "import random\n",
        "import re\n",
        "import sys\n",
        "\n",
        "\n",
        "if __name__ == '__main__':\n",
        "    n = int(input().strip())\n",
        "\n",
        "if n%2 != 0:\n",
        "    print(\"Weird\")\n",
        "elif n%2==0 and n>=2 and n<=5:\n",
        "    print(\"Not Weird\")\n",
        "elif n%2==0 and n>=6 and n<=20:\n",
        "    print(\"Weird\")\n",
        "elif n%2==0 and n>20:\n",
        "    print(\"Not Weird\")\n",
        "\n",
        "\n"
      ],
      "metadata": {
        "id": "tV6DFexRvq5-"
      },
      "execution_count": null,
      "outputs": []
    },
    {
      "cell_type": "code",
      "source": [
        "#problem 3\n",
        "\n",
        "A, B, C, D= input().split()\n",
        "\n",
        "res = str(int(A) * int(B) * int(C) * int(D))\n",
        "\n",
        "print(res[-2::])\n",
        "\n"
      ],
      "metadata": {
        "id": "8L9HjXVIvrB-"
      },
      "execution_count": null,
      "outputs": []
    }
  ]
}